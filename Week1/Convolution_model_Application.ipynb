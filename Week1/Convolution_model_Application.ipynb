{
 "cells": [
  {
   "cell_type": "markdown",
   "metadata": {},
   "source": [
    "# Convolutional Neural Networks: Application\n",
    "\n",
    "Welcome to Course 4's second assignment! In this notebook, you will:\n",
    "\n",
    "- Create a mood classifer using the TF Keras Sequential API\n",
    "- Build a ConvNet to identify sign language digits using the TF Keras Functional API\n",
    "\n",
    "**After this assignment you will be able to:**\n",
    "\n",
    "- Build and train a ConvNet in TensorFlow for a __binary__ classification problem\n",
    "- Build and train a ConvNet in TensorFlow for a __multiclass__ classification problem\n",
    "- Explain different use cases for the Sequential and Functional APIs\n",
    "\n",
    "To complete this assignment, you should already be familiar with TensorFlow. If you are not, please refer back to the **TensorFlow Tutorial** of the third week of Course 2 (\"**Improving deep neural networks**\").\n",
    "\n",
    "## Important Note on Submission to the AutoGrader\n",
    "\n",
    "Before submitting your assignment to the AutoGrader, please make sure you are not doing the following:\n",
    "\n",
    "1. You have not added any _extra_ `print` statement(s) in the assignment.\n",
    "2. You have not added any _extra_ code cell(s) in the assignment.\n",
    "3. You have not changed any of the function parameters.\n",
    "4. You are not using any global variables inside your graded exercises. Unless specifically instructed to do so, please refrain from it and use the local variables instead.\n",
    "5. You are not changing the assignment code where it is not required, like creating _extra_ variables.\n",
    "\n",
    "If you do any of the following, you will get something like, `Grader Error: Grader feedback not found` (or similarly unexpected) error upon submitting your assignment. Before asking for help/debugging the errors in your assignment, check for these first. If this is the case, and you don't remember the changes you have made, you can get a fresh copy of the assignment by following these [instructions](https://www.coursera.org/learn/convolutional-neural-networks/supplement/DS4yP/h-ow-to-refresh-your-workspace)."
   ]
  },
  {
   "cell_type": "markdown",
   "metadata": {},
   "source": [
    "## Table of Contents\n",
    "\n",
    "- [1 - Packages](#1)\n",
    "    - [1.1 - Load the Data and Split the Data into Train/Test Sets](#1-1)\n",
    "- [2 - Layers in TF Keras](#2)\n",
    "- [3 - The Sequential API](#3)\n",
    "    - [3.1 - Create the Sequential Model](#3-1)\n",
    "        - [Exercise 1 - happyModel](#ex-1)\n",
    "    - [3.2 - Train and Evaluate the Model](#3-2)\n",
    "- [4 - The Functional API](#4)\n",
    "    - [4.1 - Load the SIGNS Dataset](#4-1)\n",
    "    - [4.2 - Split the Data into Train/Test Sets](#4-2)\n",
    "    - [4.3 - Forward Propagation](#4-3)\n",
    "        - [Exercise 2 - convolutional_model](#ex-2)\n",
    "    - [4.4 - Train the Model](#4-4)\n",
    "- [5 - History Object](#5)\n",
    "- [6 - Bibliography](#6)"
   ]
  },
  {
   "cell_type": "markdown",
   "metadata": {},
   "source": [
    "<a name='1'></a>\n",
    "## 1 - Packages\n",
    "\n",
    "As usual, begin by loading in the packages."
   ]
  },
  {
   "cell_type": "code",
   "execution_count": 1,
   "metadata": {},
   "outputs": [],
   "source": [
    "import math\n",
    "import numpy as np\n",
    "import h5py\n",
    "import matplotlib.pyplot as plt\n",
    "from matplotlib.pyplot import imread\n",
    "import scipy\n",
    "from PIL import Image\n",
    "import pandas as pd\n",
    "import tensorflow as tf\n",
    "import tensorflow.keras.layers as tfl\n",
    "from tensorflow.python.framework import ops\n",
    "from cnn_utils import *\n",
    "from test_utils import summary, comparator\n",
    "\n",
    "%matplotlib inline\n",
    "np.random.seed(1)"
   ]
  },
  {
   "cell_type": "markdown",
   "metadata": {},
   "source": [
    "<a name='1-1'></a>\n",
    "### 1.1 - Load the Data and Split the Data into Train/Test Sets\n",
    "\n",
    "You'll be using the Happy House dataset for this part of the assignment, which contains images of peoples' faces. Your task will be to build a ConvNet that determines whether the people in the images are smiling or not -- because they only get to enter the house if they're smiling!  "
   ]
  },
  {
   "cell_type": "code",
   "execution_count": 2,
   "metadata": {},
   "outputs": [
    {
     "name": "stdout",
     "output_type": "stream",
     "text": [
      "number of training examples = 600\n",
      "number of test examples = 150\n",
      "X_train shape: (600, 64, 64, 3)\n",
      "Y_train shape: (600, 1)\n",
      "X_test shape: (150, 64, 64, 3)\n",
      "Y_test shape: (150, 1)\n"
     ]
    }
   ],
   "source": [
    "X_train_orig, Y_train_orig, X_test_orig, Y_test_orig, classes = load_happy_dataset()\n",
    "\n",
    "# Normalize image vectors\n",
    "X_train = X_train_orig/255.\n",
    "X_test = X_test_orig/255.\n",
    "\n",
    "# Reshape\n",
    "Y_train = Y_train_orig.T\n",
    "Y_test = Y_test_orig.T\n",
    "\n",
    "print (\"number of training examples = \" + str(X_train.shape[0]))\n",
    "print (\"number of test examples = \" + str(X_test.shape[0]))\n",
    "print (\"X_train shape: \" + str(X_train.shape))\n",
    "print (\"Y_train shape: \" + str(Y_train.shape))\n",
    "print (\"X_test shape: \" + str(X_test.shape))\n",
    "print (\"Y_test shape: \" + str(Y_test.shape))"
   ]
  },
  {
   "cell_type": "markdown",
   "metadata": {},
   "source": [
    "You can display the images contained in the dataset. Images are **64x64** pixels in RGB format (3 channels)."
   ]
  },
  {
   "cell_type": "code",
   "execution_count": 3,
   "metadata": {},
   "outputs": [
    {
     "data": {
      "image/png": "[encoded data removed]",
      "text/plain": [
       "<Figure size 432x288 with 1 Axes>"
      ]
     },
     "metadata": {
      "needs_background": "light"
     },
     "output_type": "display_data"
    }
   ],
   "source": [
    "index = 124\n",
    "plt.imshow(X_train_orig[index]) #display sample training image\n",
    "plt.show()"
   ]
  },
  {
   "cell_type": "markdown",
   "metadata": {},
   "source": [
    "<a name='2'></a>\n",
    "## 2 - Layers in TF Keras \n",
    "\n",
    "In the previous assignment, you created layers manually in numpy. In TF Keras, you don't have to write code directly to create layers. Rather, TF Keras has pre-defined layers you can use. \n",
    "\n",
    "When you create a layer in TF Keras, you are creating a function that takes some input and transforms it into an output you can reuse later. Nice and easy! "
   ]
  },
  {
   "cell_type": "markdown",
   "metadata": {},
   "source": [
    "<a name='3'></a>\n",
    "## 3 - The Sequential API\n",
    "\n",
    "In the previous assignment, you built helper functions using `numpy` to understand the mechanics behind convolutional neural networks. Most practical applications of deep learning today are built using programming frameworks, which have many built-in functions you can simply call. Keras is a high-level abstraction built on top of TensorFlow, which allows for even more simplified and optimized model creation and training. \n",
    "\n",
    "For the first part of this assignment, you'll create a model using TF Keras' Sequential API, which allows you to build layer by layer, and is ideal for building models where each layer has **exactly one** input tensor and **one** output tensor. \n",
    "\n",
    "As you'll see, using the Sequential API is simple and straightforward, but is only appropriate for simpler, more straightforward tasks. Later in this notebook you'll spend some time building with a more flexible, powerful alternative: the Functional API. \n",
    " "
   ]
  },
  {
   "cell_type": "markdown",
   "metadata": {},
   "source": [
    "<a name='3-1'></a>\n",
    "### 3.1 - Create the Sequential Model\n",
    "\n",
    "As mentioned earlier, the TensorFlow Keras Sequential API can be used to build simple models with layer operations that proceed in a sequential order. \n",
    "\n",
    "You can also add layers incrementally to a Sequential model with the `.add()` method, or remove them using the `.pop()` method, much like you would in a regular Python list.\n",
    "\n",
    "Actually, you can think of a Sequential model as behaving like a list of layers. Like Python lists, Sequential layers are ordered, and the order in which they are specified matters.  If your model is non-linear or contains layers with multiple inputs or outputs, a Sequential model wouldn't be the right choice!\n",
    "\n",
    "For any layer construction in Keras, you'll need to specify the input shape in advance. This is because in Keras, the shape of the weights is based on the shape of the inputs. The weights are only created when the model first sees some input data. Sequential models can be created by passing a list of layers to the Sequential constructor, like you will do in the next assignment.\n",
    "\n",
    "<a name='ex-1'></a>\n",
    "### Exercise 1 - happyModel\n",
    "\n",
    "Implement the `happyModel` function below to build the following model: `ZEROPAD2D -> CONV2D -> BATCHNORM -> RELU -> MAXPOOL -> FLATTEN -> DENSE`. Take help from [tf.keras.layers](https://www.tensorflow.org/api_docs/python/tf/keras/layers) \n",
    "\n",
    "Also, plug in the following parameters for all the steps:\n",
    "\n",
    " - [ZeroPadding2D](https://www.tensorflow.org/api_docs/python/tf/keras/layers/ZeroPadding2D): padding 3, input shape 64 x 64 x 3\n",
    " - [Conv2D](https://www.tensorflow.org/api_docs/python/tf/keras/layers/Conv2D): Use 32 7x7 filters, stride 1\n",
    " - [BatchNormalization](https://www.tensorflow.org/api_docs/python/tf/keras/layers/BatchNormalization): for axis 3\n",
    " - [ReLU](https://www.tensorflow.org/api_docs/python/tf/keras/layers/ReLU)\n",
    " - [MaxPool2D](https://www.tensorflow.org/api_docs/python/tf/keras/layers/MaxPool2D): Using default parameters\n",
    " - [Flatten](https://www.tensorflow.org/api_docs/python/tf/keras/layers/Flatten) the previous output.\n",
    " - Fully-connected ([Dense](https://www.tensorflow.org/api_docs/python/tf/keras/layers/Dense)) layer: Apply a fully connected layer with 1 neuron and a sigmoid activation. \n",
    " \n",
    " \n",
    " **Hint:**\n",
    " \n",
    " Use **tfl** as shorthand for **tensorflow.keras.layers**"
   ]
  },
  {
   "cell_type": "code",
   "execution_count": 4,
   "metadata": {
    "deletable": false,
    "nbgrader": {
     "cell_type": "code",
     "checksum": "95d28b191f257bdd5b70c7b8952559d5",
     "grade": false,
     "grade_id": "cell-0e56d3fc28b69aec",
     "locked": false,
     "schema_version": 3,
     "solution": true,
     "task": false
    }
   },
   "outputs": [],
   "source": [
    "# GRADED FUNCTION: happyModel\n",
    "\n",
    "def happyModel():\n",
    "    \"\"\"\n",
    "    Implements the forward propagation for the binary classification model:\n",
    "    ZEROPAD2D -> CONV2D -> BATCHNORM -> RELU -> MAXPOOL -> FLATTEN -> DENSE\n",
    "    \n",
    "    Note that for simplicity and grading purposes, you'll hard-code all the values\n",
    "    such as the stride and kernel (filter) sizes. \n",
    "    Normally, functions should take these values as function parameters.\n",
    "    \n",
    "    Arguments:\n",
    "    None\n",
    "\n",
    "    Returns:\n",
    "    model -- TF Keras model (object containing the information for the entire training process) \n",
    "    \"\"\"\n",
    "    model = tf.keras.Sequential([\n",
    "            ## ZeroPadding2D with padding 3, input shape of 64 x 64 x 3\n",
    "            \n",
    "            ## Conv2D with 32 7x7 filters and stride of 1\n",
    "            \n",
    "            ## BatchNormalization for axis 3\n",
    "            \n",
    "            ## ReLU\n",
    "            \n",
    "            ## Max Pooling 2D with default parameters\n",
    "            \n",
    "            ## Flatten layer\n",
    "            \n",
    "            ## Dense layer with 1 unit for output & 'sigmoid' activation\n",
    "            \n",
    "            # YOUR CODE STARTS HERE\n",
    "        \n",
    "            tf.keras.layers.ZeroPadding2D(padding=(3, 3), input_shape=(64,64,3), data_format=\"channels_last\"),\n",
    "            tf.keras.layers.Conv2D(32, (7, 7), strides = (1, 1)),\n",
    "            tf.keras.layers.BatchNormalization(axis=3),\n",
    "            tf.keras.layers.ReLU(),\n",
    "            tf.keras.layers.MaxPooling2D(),\n",
    "            tf.keras.layers.Flatten(),\n",
    "            tf.keras.layers.Dense(1, activation='sigmoid'),\n",
    "            \n",
    "            # YOUR CODE ENDS HERE\n",
    "        ])\n",
    "    \n",
    "    return model"
   ]
  },
  {
   "cell_type": "code",
   "execution_count": 5,
   "metadata": {
    "deletable": false,
    "editable": false,
    "nbgrader": {
     "cell_type": "code",
     "checksum": "8d3575c950e2e78149be2d05d671c80d",
     "grade": true,
     "grade_id": "cell-e3e1046e5c33d775",
     "locked": true,
     "points": 10,
     "schema_version": 3,
     "solution": false,
     "task": false
    }
   },
   "outputs": [
    {
     "name": "stdout",
     "output_type": "stream",
     "text": [
      "['ZeroPadding2D', (None, 70, 70, 3), 0, ((3, 3), (3, 3))]\n",
      "['Conv2D', (None, 64, 64, 32), 4736, 'valid', 'linear', 'GlorotUniform']\n",
      "['BatchNormalization', (None, 64, 64, 32), 128]\n",
      "['ReLU', (None, 64, 64, 32), 0]\n",
      "['MaxPooling2D', (None, 32, 32, 32), 0, (2, 2), (2, 2), 'valid']\n",
      "['Flatten', (None, 32768), 0]\n",
      "['Dense', (None, 1), 32769, 'sigmoid']\n",
      "\u001b[32mAll tests passed!\u001b[0m\n"
     ]
    }
   ],
   "source": [
    "happy_model = happyModel()\n",
    "# Print a summary for each layer\n",
    "for layer in summary(happy_model):\n",
    "    print(layer)\n",
    "    \n",
    "output = [['ZeroPadding2D', (None, 70, 70, 3), 0, ((3, 3), (3, 3))],\n",
    "            ['Conv2D', (None, 64, 64, 32), 4736, 'valid', 'linear', 'GlorotUniform'],\n",
    "            ['BatchNormalization', (None, 64, 64, 32), 128],\n",
    "            ['ReLU', (None, 64, 64, 32), 0],\n",
    "            ['MaxPooling2D', (None, 32, 32, 32), 0, (2, 2), (2, 2), 'valid'],\n",
    "            ['Flatten', (None, 32768), 0],\n",
    "            ['Dense', (None, 1), 32769, 'sigmoid']]\n",
    "    \n",
    "comparator(summary(happy_model), output)"
   ]
  },
  {
   "cell_type": "markdown",
   "metadata": {},
   "source": [
    "#### Expected Output:\n",
    "\n",
    "```\n",
    "['ZeroPadding2D', (None, 70, 70, 3), 0, ((3, 3), (3, 3))]\n",
    "['Conv2D', (None, 64, 64, 32), 4736, 'valid', 'linear', 'GlorotUniform']\n",
    "['BatchNormalization', (None, 64, 64, 32), 128]\n",
    "['ReLU', (None, 64, 64, 32), 0]\n",
    "['MaxPooling2D', (None, 32, 32, 32), 0, (2, 2), (2, 2), 'valid']\n",
    "['Flatten', (None, 32768), 0]\n",
    "['Dense', (None, 1), 32769, 'sigmoid']\n",
    "All tests passed!\n",
    "```"
   ]
  },
  {
   "cell_type": "markdown",
   "metadata": {},
   "source": [
    "Now that your model is created, you can compile it for training with an optimizer and loss of your choice. When the string `accuracy` is specified as a metric, the type of accuracy used will be automatically converted based on the loss function used. This is one of the many optimizations built into TensorFlow that make your life easier! If you'd like to read more on how the compiler operates, check the docs [here](https://www.tensorflow.org/api_docs/python/tf/keras/Model#compile)."
   ]
  },
  {
   "cell_type": "code",
   "execution_count": 6,
   "metadata": {},
   "outputs": [],
   "source": [
    "happy_model.compile(optimizer='adam',\n",
    "                   loss='binary_crossentropy',\n",
    "                   metrics=['accuracy'])"
   ]
  },
  {
   "cell_type": "markdown",
   "metadata": {},
   "source": [
    "It's time to check your model's parameters with the `.summary()` method. This will display the types of layers you have, the shape of the outputs, and how many parameters are in each layer. "
   ]
  },
  {
   "cell_type": "code",
   "execution_count": 7,
   "metadata": {},
   "outputs": [
    {
     "name": "stdout",
     "output_type": "stream",
     "text": [
      "Model: \"sequential\"\n",
      "_________________________________________________________________\n",
      "Layer (type)                 Output Shape              Param #   \n",
      "=================================================================\n",
      "zero_padding2d (ZeroPadding2 (None, 70, 70, 3)         0         \n",
      "_________________________________________________________________\n",
      "conv2d (Conv2D)              (None, 64, 64, 32)        4736      \n",
      "_________________________________________________________________\n",
      "batch_normalization (BatchNo (None, 64, 64, 32)        128       \n",
      "_________________________________________________________________\n",
      "re_lu (ReLU)                 (None, 64, 64, 32)        0         \n",
      "_________________________________________________________________\n",
      "max_pooling2d (MaxPooling2D) (None, 32, 32, 32)        0         \n",
      "_________________________________________________________________\n",
      "flatten (Flatten)            (None, 32768)             0         \n",
      "_________________________________________________________________\n",
      "dense (Dense)                (None, 1)                 32769     \n",
      "=================================================================\n",
      "Total params: 37,633\n",
      "Trainable params: 37,569\n",
      "Non-trainable params: 64\n",
      "_________________________________________________________________\n"
     ]
    }
   ],
   "source": [
    "happy_model.summary()"
   ]
  },
  {
   "cell_type": "markdown",
   "metadata": {},
   "source": [
    "<a name='3-2'></a>\n",
    "### 3.2 - Train and Evaluate the Model\n",
    "\n",
    "After creating the model, compiling it with your choice of optimizer and loss function, and doing a sanity check on its contents, you are now ready to build! \n",
    "\n",
    "Simply call `.fit()` to train. That's it! No need for mini-batching, saving, or complex backpropagation computations. That's all been done for you, as you're using a TensorFlow dataset with the batches specified already. You do have the option to specify epoch number or minibatch size if you like (for example, in the case of an un-batched dataset)."
   ]
  },
  {
   "cell_type": "code",
   "execution_count": 8,
   "metadata": {},
   "outputs": [
    {
     "name": "stdout",
     "output_type": "stream",
     "text": [
      "Epoch 1/10\n",
      "38/38 [==============================] - 4s 98ms/step - loss: 0.9403 - accuracy: 0.7600\n",
      "Epoch 2/10\n",
      "38/38 [==============================] - 3s 92ms/step - loss: 0.1800 - accuracy: 0.9350\n",
      "Epoch 3/10\n",
      "38/38 [==============================] - 3s 89ms/step - loss: 0.1802 - accuracy: 0.9300\n",
      "Epoch 4/10\n",
      "38/38 [==============================] - 4s 92ms/step - loss: 0.1635 - accuracy: 0.9400\n",
      "Epoch 5/10\n",
      "38/38 [==============================] - 4s 92ms/step - loss: 0.0753 - accuracy: 0.9800\n",
      "Epoch 6/10\n",
      "38/38 [==============================] - 3s 92ms/step - loss: 0.2039 - accuracy: 0.9350\n",
      "Epoch 7/10\n",
      "38/38 [==============================] - 3s 90ms/step - loss: 0.1271 - accuracy: 0.9550\n",
      "Epoch 8/10\n",
      "38/38 [==============================] - 3s 90ms/step - loss: 0.0924 - accuracy: 0.9733\n",
      "Epoch 9/10\n",
      "38/38 [==============================] - 3s 92ms/step - loss: 0.0750 - accuracy: 0.9733\n",
      "Epoch 10/10\n",
      "38/38 [==============================] - 3s 90ms/step - loss: 0.1301 - accuracy: 0.9667\n"
     ]
    },
    {
     "data": {
      "text/plain": [
       "<tensorflow.python.keras.callbacks.History at 0x7f88be5b8850>"
      ]
     },
     "execution_count": 8,
     "metadata": {},
     "output_type": "execute_result"
    }
   ],
   "source": [
    "happy_model.fit(X_train, Y_train, epochs=10, batch_size=16)"
   ]
  },
  {
   "cell_type": "markdown",
   "metadata": {},
   "source": [
    "After that completes, just use `.evaluate()` to evaluate against your test set. This function will print the value of the loss function and the performance metrics specified during the compilation of the model. In this case, the `binary_crossentropy` and the `accuracy` respectively."
   ]
  },
  {
   "cell_type": "code",
   "execution_count": 9,
   "metadata": {},
   "outputs": [
    {
     "name": "stdout",
     "output_type": "stream",
     "text": [
      "5/5 [==============================] - 0s 22ms/step - loss: 0.2097 - accuracy: 0.9067\n"
     ]
    },
    {
     "data": {
      "text/plain": [
       "[0.20973660051822662, 0.9066666960716248]"
      ]
     },
     "execution_count": 9,
     "metadata": {},
     "output_type": "execute_result"
    }
   ],
   "source": [
    "happy_model.evaluate(X_test, Y_test)"
   ]
  },
  {
   "cell_type": "markdown",
   "metadata": {},
   "source": [
    "Easy, right? But what if you need to build a model with shared layers, branches, or multiple inputs and outputs? This is where Sequential, with its beautifully simple yet limited functionality, won't be able to help you. \n",
    "\n",
    "Next up: Enter the Functional API, your slightly more complex, highly flexible friend.  "
   ]
  },
  {
   "cell_type": "markdown",
   "metadata": {},
   "source": [
    "<a name='4'></a>\n",
    "## 4 - The Functional API"
   ]
  },
  {
   "cell_type": "markdown",
   "metadata": {},
   "source": [
    "Welcome to the second half of the assignment, where you'll use Keras' flexible [Functional API](https://www.tensorflow.org/guide/keras/functional) to build a ConvNet that can differentiate between 6 sign language digits. \n",
    "\n",
    "The Functional API can handle models with non-linear topology, shared layers, as well as layers with multiple inputs or outputs. Imagine that, where the Sequential API requires the model to move in a linear fashion through its layers, the Functional API allows much more flexibility. Where Sequential is a straight line, a Functional model is a graph, where the nodes of the layers can connect in many more ways than one. \n",
    "\n",
    "In the visual example below, the one possible direction of the movement Sequential model is shown in contrast to a skip connection, which is just one of the many ways a Functional model can be constructed. A skip connection, as you might have guessed, skips some layer in the network and feeds the output to a later layer in the network. Don't worry, you'll be spending more time with skip connections very soon! "
   ]
  },
  {
   "cell_type": "markdown",
   "metadata": {},
   "source": [
    "<img src=\"images/seq_vs_func.png\" style=\"width:350px;height:200px;\">"
   ]
  },
  {
   "cell_type": "markdown",
   "metadata": {},
   "source": [
    "<a name='4-1'></a>\n",
    "### 4.1 - Load the SIGNS Dataset\n",
    "\n",
    "As a reminder, the SIGNS dataset is a collection of 6 signs representing numbers from 0 to 5."
   ]
  },
  {
   "cell_type": "code",
   "execution_count": 10,
   "metadata": {},
   "outputs": [],
   "source": [
    "# Loading the data (signs)\n",
    "X_train_orig, Y_train_orig, X_test_orig, Y_test_orig, classes = load_signs_dataset()"
   ]
  },
  {
   "cell_type": "markdown",
   "metadata": {},
   "source": [
    "<img src=\"images/SIGNS.png\" style=\"width:800px;height:300px;\">\n",
    "\n",
    "The next cell will show you an example of a labelled image in the dataset. Feel free to change the value of `index` below and re-run to see different examples. "
   ]
  },
  {
   "cell_type": "code",
   "execution_count": 11,
   "metadata": {},
   "outputs": [
    {
     "name": "stdout",
     "output_type": "stream",
     "text": [
      "y = 4\n"
     ]
    },
    {
     "data": {
      "image/png": "[encoded data removed]",
      "text/plain": [
       "<Figure size 432x288 with 1 Axes>"
      ]
     },
     "metadata": {
      "needs_background": "light"
     },
     "output_type": "display_data"
    }
   ],
   "source": [
    "# Example of an image from the dataset\n",
    "index = 9\n",
    "plt.imshow(X_train_orig[index])\n",
    "print (\"y = \" + str(np.squeeze(Y_train_orig[:, index])))"
   ]
  },
  {
   "cell_type": "markdown",
   "metadata": {},
   "source": [
    "<a name='4-2'></a>\n",
    "### 4.2 - Split the Data into Train/Test Sets\n",
    "\n",
    "In Course 2, you built a fully-connected network for this dataset. But since this is an image dataset, it is more natural to apply a ConvNet to it.\n",
    "\n",
    "To get started, let's examine the shapes of your data. "
   ]
  },
  {
   "cell_type": "code",
   "execution_count": 12,
   "metadata": {},
   "outputs": [
    {
     "name": "stdout",
     "output_type": "stream",
     "text": [
      "number of training examples = 1080\n",
      "number of test examples = 120\n",
      "X_train shape: (1080, 64, 64, 3)\n",
      "Y_train shape: (1080, 6)\n",
      "X_test shape: (120, 64, 64, 3)\n",
      "Y_test shape: (120, 6)\n"
     ]
    }
   ],
   "source": [
    "X_train = X_train_orig/255.\n",
    "X_test = X_test_orig/255.\n",
    "Y_train = convert_to_one_hot(Y_train_orig, 6).T\n",
    "Y_test = convert_to_one_hot(Y_test_orig, 6).T\n",
    "print (\"number of training examples = \" + str(X_train.shape[0]))\n",
    "print (\"number of test examples = \" + str(X_test.shape[0]))\n",
    "print (\"X_train shape: \" + str(X_train.shape))\n",
    "print (\"Y_train shape: \" + str(Y_train.shape))\n",
    "print (\"X_test shape: \" + str(X_test.shape))\n",
    "print (\"Y_test shape: \" + str(Y_test.shape))"
   ]
  },
  {
   "cell_type": "markdown",
   "metadata": {},
   "source": [
    "<a name='4-3'></a>\n",
    "### 4.3 - Forward Propagation\n",
    "\n",
    "In TensorFlow, there are built-in functions that implement the convolution steps for you. By now, you should be familiar with how TensorFlow builds computational graphs. In the [Functional API](https://www.tensorflow.org/guide/keras/functional), you create a graph of layers. This is what allows such great flexibility.\n",
    "\n",
    "However, the following model could also be defined using the Sequential API since the information flow is on a single line. But don't deviate. What we want you to learn is to use the functional API.\n",
    "\n",
    "Begin building your graph of layers by creating an input node that functions as a callable object:\n",
    "\n",
    "- **input_img = tf.keras.Input(shape=input_shape):** \n",
    "\n",
    "Then, create a new node in the graph of layers by calling a layer on the `input_img` object: \n",
    "\n",
    "- **tf.keras.layers.Conv2D(filters= ... , kernel_size= ... , padding='same')(input_img):** Read the full documentation on [Conv2D](https://www.tensorflow.org/api_docs/python/tf/keras/layers/Conv2D).\n",
    "\n",
    "- **tf.keras.layers.MaxPool2D(pool_size=(f, f), strides=(s, s), padding='same'):** `MaxPool2D()` downsamples your input using a window of size (f, f) and strides of size (s, s) to carry out max pooling over each window.  For max pooling, you usually operate on a single example at a time and a single channel at a time. Read the full documentation on [MaxPool2D](https://www.tensorflow.org/api_docs/python/tf/keras/layers/MaxPool2D).\n",
    "\n",
    "- **tf.keras.layers.ReLU():** computes the elementwise ReLU of Z (which can be any shape). You can read the full documentation on [ReLU](https://www.tensorflow.org/api_docs/python/tf/keras/layers/ReLU).\n",
    "\n",
    "- **tf.keras.layers.Flatten()**: given a tensor \"P\", this function takes each training (or test) example in the batch and flattens it into a 1D vector.  \n",
    "\n",
    "    * If a tensor P has the shape (batch_size,h,w,c), it returns a flattened tensor with shape (batch_size, k), where $k=h \\times w \\times c$.  \"k\" equals the product of all the dimension sizes other than the first dimension.\n",
    "    \n",
    "    * For example, given a tensor with dimensions [100, 2, 3, 4], it flattens the tensor to be of shape [100, 24], where 24 = 2 * 3 * 4.  You can read the full documentation on [Flatten](https://www.tensorflow.org/api_docs/python/tf/keras/layers/Flatten).\n",
    "\n",
    "- **tf.keras.layers.Dense(units= ... , activation='softmax')(F):** given the flattened input F, it returns the output computed using a fully connected layer. You can read the full documentation on [Dense](https://www.tensorflow.org/api_docs/python/tf/keras/layers/Dense).\n",
    "\n",
    "In the last function above (`tf.keras.layers.Dense()`), the fully connected layer automatically initializes weights in the graph and keeps on training them as you train the model. Hence, you did not need to initialize those weights when initializing the parameters.\n",
    "\n",
    "Lastly, before creating the model, you'll need to define the output using the last of the function's compositions (in this example, a Dense layer): \n",
    "\n",
    "- **outputs = tf.keras.layers.Dense(units=6, activation='softmax')(F)**\n",
    "\n",
    "\n",
    "#### Window, kernel, filter, pool\n",
    "\n",
    "The words \"kernel\" and \"filter\" are used to refer to the same thing. The word \"filter\" accounts for the amount of \"kernels\" that will be used in a single convolution layer. \"Pool\" is the name of the operation that takes the max or average value of the kernels. \n",
    "\n",
    "This is why the parameter `pool_size` refers to `kernel_size`, and you use `(f,f)` to refer to the filter size. \n",
    "\n",
    "Pool size and kernel size refer to the same thing in different objects - They refer to the shape of the window where the operation takes place. "
   ]
  },
  {
   "cell_type": "markdown",
   "metadata": {},
   "source": [
    "<a name='ex-2'></a>\n",
    "### Exercise 2 - convolutional_model\n",
    "\n",
    "Implement the `convolutional_model` function below to build the following model: `CONV2D -> RELU -> MAXPOOL -> CONV2D -> RELU -> MAXPOOL -> FLATTEN -> DENSE`. Use the functions above! \n",
    "\n",
    "Also, plug in the following parameters for all the steps:\n",
    "\n",
    " - [Conv2D](https://www.tensorflow.org/api_docs/python/tf/keras/layers/Conv2D): Use 8 4 by 4 filters, stride 1, padding is \"SAME\"\n",
    " - [ReLU](https://www.tensorflow.org/api_docs/python/tf/keras/layers/ReLU)\n",
    " - [MaxPool2D](https://www.tensorflow.org/api_docs/python/tf/keras/layers/MaxPool2D): Use an 8 by 8 filter size and an 8 by 8 stride, padding is \"SAME\"\n",
    " - **Conv2D**: Use 16 2 by 2 filters, stride 1, padding is \"SAME\"\n",
    " - **ReLU**\n",
    " - **MaxPool2D**: Use a 4 by 4 filter size and a 4 by 4 stride, padding is \"SAME\"\n",
    " - [Flatten](https://www.tensorflow.org/api_docs/python/tf/keras/layers/Flatten) the previous output.\n",
    " - Fully-connected ([Dense](https://www.tensorflow.org/api_docs/python/tf/keras/layers/Dense)) layer: Apply a fully connected layer with 6 neurons and a softmax activation. "
   ]
  },
  {
   "cell_type": "code",
   "execution_count": 13,
   "metadata": {
    "deletable": false,
    "nbgrader": {
     "cell_type": "code",
     "checksum": "f58643806aa8380c96225fc8b4c5e7aa",
     "grade": false,
     "grade_id": "cell-dac51744a9e03f51",
     "locked": false,
     "schema_version": 3,
     "solution": true,
     "task": false
    }
   },
   "outputs": [],
   "source": [
    "# GRADED FUNCTION: convolutional_model\n",
    "\n",
    "def convolutional_model(input_shape):\n",
    "    \"\"\"\n",
    "    Implements the forward propagation for the model:\n",
    "    CONV2D -> RELU -> MAXPOOL -> CONV2D -> RELU -> MAXPOOL -> FLATTEN -> DENSE\n",
    "    \n",
    "    Note that for simplicity and grading purposes, you'll hard-code some values\n",
    "    such as the stride and kernel (filter) sizes. \n",
    "    Normally, functions should take these values as function parameters.\n",
    "    \n",
    "    Arguments:\n",
    "    input_img -- input dataset, of shape (input_shape)\n",
    "\n",
    "    Returns:\n",
    "    model -- TF Keras model (object containing the information for the entire training process) \n",
    "    \"\"\"\n",
    "\n",
    "    input_img = tf.keras.Input(shape=input_shape)\n",
    "    ## CONV2D: 8 filters 4x4, stride of 1, padding 'SAME'\n",
    "    # Z1 = None\n",
    "    ## RELU\n",
    "    # A1 = None\n",
    "    ## MAXPOOL: window 8x8, stride 8, padding 'SAME'\n",
    "    # P1 = None\n",
    "    ## CONV2D: 16 filters 2x2, stride 1, padding 'SAME'\n",
    "    # Z2 = None\n",
    "    ## RELU\n",
    "    # A2 = None\n",
    "    ## MAXPOOL: window 4x4, stride 4, padding 'SAME'\n",
    "    # P2 = None\n",
    "    ## FLATTEN\n",
    "    # F = None\n",
    "    ## Dense layer\n",
    "    ## 6 neurons in output layer. Hint: one of the arguments should be \"activation='softmax'\" \n",
    "    # outputs = None\n",
    "    # YOUR CODE STARTS HERE\n",
    "    Z1 = tfl.Conv2D(8, 4, activation='linear', padding=\"same\", strides=1)(input_img)\n",
    "    A1 = tfl.ReLU()(Z1)\n",
    "    P1 = tfl.MaxPool2D(pool_size=(8, 8), strides=(8, 8), padding='same')(A1)\n",
    "    Z2 = tfl.Conv2D(16, 2, activation='linear', padding=\"same\", strides=1)(P1)\n",
    "    A2 = tfl.ReLU()(Z2)\n",
    "    P2 = tfl.MaxPool2D(pool_size=(4, 4), strides=(4, 4), padding='same')(A2)\n",
    "    F = tfl.Flatten()(P2)\n",
    "    outputs = tfl.Dense(6, activation='softmax')(F)\n",
    "    \n",
    "    # YOUR CODE ENDS HERE\n",
    "    model = tf.keras.Model(inputs=input_img, outputs=outputs)\n",
    "    return model"
   ]
  },
  {
   "cell_type": "code",
   "execution_count": 14,
   "metadata": {
    "deletable": false,
    "editable": false,
    "nbgrader": {
     "cell_type": "code",
     "checksum": "483d626949930a0b0ef20997e7c6ba72",
     "grade": true,
     "grade_id": "cell-45d22e92042174c9",
     "locked": true,
     "points": 10,
     "schema_version": 3,
     "solution": false,
     "task": false
    }
   },
   "outputs": [
    {
     "name": "stdout",
     "output_type": "stream",
     "text": [
      "Model: \"functional_1\"\n",
      "_________________________________________________________________\n",
      "Layer (type)                 Output Shape              Param #   \n",
      "=================================================================\n",
      "input_1 (InputLayer)         [(None, 64, 64, 3)]       0         \n",
      "_________________________________________________________________\n",
      "conv2d_1 (Conv2D)            (None, 64, 64, 8)         392       \n",
      "_________________________________________________________________\n",
      "re_lu_1 (ReLU)               (None, 64, 64, 8)         0         \n",
      "_________________________________________________________________\n",
      "max_pooling2d_1 (MaxPooling2 (None, 8, 8, 8)           0         \n",
      "_________________________________________________________________\n",
      "conv2d_2 (Conv2D)            (None, 8, 8, 16)          528       \n",
      "_________________________________________________________________\n",
      "re_lu_2 (ReLU)               (None, 8, 8, 16)          0         \n",
      "_________________________________________________________________\n",
      "max_pooling2d_2 (MaxPooling2 (None, 2, 2, 16)          0         \n",
      "_________________________________________________________________\n",
      "flatten_1 (Flatten)          (None, 64)                0         \n",
      "_________________________________________________________________\n",
      "dense_1 (Dense)              (None, 6)                 390       \n",
      "=================================================================\n",
      "Total params: 1,310\n",
      "Trainable params: 1,310\n",
      "Non-trainable params: 0\n",
      "_________________________________________________________________\n",
      "\u001b[32mAll tests passed!\u001b[0m\n"
     ]
    }
   ],
   "source": [
    "conv_model = convolutional_model((64, 64, 3))\n",
    "conv_model.compile(optimizer='adam',\n",
    "                  loss='categorical_crossentropy',\n",
    "                  metrics=['accuracy'])\n",
    "conv_model.summary()\n",
    "    \n",
    "output = [['InputLayer', [(None, 64, 64, 3)], 0],\n",
    "        ['Conv2D', (None, 64, 64, 8), 392, 'same', 'linear', 'GlorotUniform'],\n",
    "        ['ReLU', (None, 64, 64, 8), 0],\n",
    "        ['MaxPooling2D', (None, 8, 8, 8), 0, (8, 8), (8, 8), 'same'],\n",
    "        ['Conv2D', (None, 8, 8, 16), 528, 'same', 'linear', 'GlorotUniform'],\n",
    "        ['ReLU', (None, 8, 8, 16), 0],\n",
    "        ['MaxPooling2D', (None, 2, 2, 16), 0, (4, 4), (4, 4), 'same'],\n",
    "        ['Flatten', (None, 64), 0],\n",
    "        ['Dense', (None, 6), 390, 'softmax']]\n",
    "    \n",
    "comparator(summary(conv_model), output)"
   ]
  },
  {
   "cell_type": "markdown",
   "metadata": {},
   "source": [
    "Both the Sequential and Functional APIs return a TF Keras model object. The only difference is how inputs are handled inside the object model! "
   ]
  },
  {
   "cell_type": "markdown",
   "metadata": {},
   "source": [
    "<a name='4-4'></a>\n",
    "### 4.4 - Train the Model"
   ]
  },
  {
   "cell_type": "code",
   "execution_count": 15,
   "metadata": {},
   "outputs": [
    {
     "name": "stdout",
     "output_type": "stream",
     "text": [
      "Epoch 1/100\n",
      "17/17 [==============================] - 2s 113ms/step - loss: 1.8068 - accuracy: 0.1565 - val_loss: 1.7947 - val_accuracy: 0.1333\n",
      "Epoch 2/100\n",
      "17/17 [==============================] - 2s 105ms/step - loss: 1.7867 - accuracy: 0.2287 - val_loss: 1.7811 - val_accuracy: 0.2083\n",
      "Epoch 3/100\n",
      "17/17 [==============================] - 2s 100ms/step - loss: 1.7782 - accuracy: 0.2694 - val_loss: 1.7703 - val_accuracy: 0.3167\n",
      "Epoch 4/100\n",
      "17/17 [==============================] - 2s 106ms/step - loss: 1.7700 - accuracy: 0.2991 - val_loss: 1.7622 - val_accuracy: 0.3250\n",
      "Epoch 5/100\n",
      "17/17 [==============================] - 2s 100ms/step - loss: 1.7608 - accuracy: 0.3120 - val_loss: 1.7489 - val_accuracy: 0.3750\n",
      "Epoch 6/100\n",
      "17/17 [==============================] - 2s 105ms/step - loss: 1.7477 - accuracy: 0.3491 - val_loss: 1.7355 - val_accuracy: 0.4000\n",
      "Epoch 7/100\n",
      "17/17 [==============================] - 2s 95ms/step - loss: 1.7279 - accuracy: 0.3907 - val_loss: 1.7103 - val_accuracy: 0.4333\n",
      "Epoch 8/100\n",
      "17/17 [==============================] - 2s 102ms/step - loss: 1.7031 - accuracy: 0.4324 - val_loss: 1.6833 - val_accuracy: 0.4250\n",
      "Epoch 9/100\n",
      "17/17 [==============================] - 2s 100ms/step - loss: 1.6709 - accuracy: 0.4472 - val_loss: 1.6511 - val_accuracy: 0.4417\n",
      "Epoch 10/100\n",
      "17/17 [==============================] - 2s 100ms/step - loss: 1.6364 - accuracy: 0.4574 - val_loss: 1.6117 - val_accuracy: 0.5083\n",
      "Epoch 11/100\n",
      "17/17 [==============================] - 2s 100ms/step - loss: 1.5992 - accuracy: 0.4491 - val_loss: 1.5681 - val_accuracy: 0.5000\n",
      "Epoch 12/100\n",
      "17/17 [==============================] - 2s 100ms/step - loss: 1.5550 - accuracy: 0.4759 - val_loss: 1.5216 - val_accuracy: 0.5333\n",
      "Epoch 13/100\n",
      "17/17 [==============================] - 2s 100ms/step - loss: 1.5075 - accuracy: 0.5056 - val_loss: 1.4712 - val_accuracy: 0.5417\n",
      "Epoch 14/100\n",
      "17/17 [==============================] - 2s 100ms/step - loss: 1.4567 - accuracy: 0.5269 - val_loss: 1.4209 - val_accuracy: 0.5500\n",
      "Epoch 15/100\n",
      "17/17 [==============================] - 2s 100ms/step - loss: 1.4092 - accuracy: 0.5444 - val_loss: 1.3727 - val_accuracy: 0.5583\n",
      "Epoch 16/100\n",
      "17/17 [==============================] - 2s 106ms/step - loss: 1.3640 - accuracy: 0.5593 - val_loss: 1.3284 - val_accuracy: 0.5667\n",
      "Epoch 17/100\n",
      "17/17 [==============================] - 2s 100ms/step - loss: 1.3189 - accuracy: 0.5713 - val_loss: 1.2830 - val_accuracy: 0.5750\n",
      "Epoch 18/100\n",
      "17/17 [==============================] - 2s 105ms/step - loss: 1.2754 - accuracy: 0.5852 - val_loss: 1.2410 - val_accuracy: 0.5833\n",
      "Epoch 19/100\n",
      "17/17 [==============================] - 2s 100ms/step - loss: 1.2361 - accuracy: 0.5917 - val_loss: 1.2032 - val_accuracy: 0.5917\n",
      "Epoch 20/100\n",
      "17/17 [==============================] - 2s 100ms/step - loss: 1.1994 - accuracy: 0.6065 - val_loss: 1.1708 - val_accuracy: 0.6167\n",
      "Epoch 21/100\n",
      "17/17 [==============================] - 2s 100ms/step - loss: 1.1623 - accuracy: 0.6278 - val_loss: 1.1353 - val_accuracy: 0.6417\n",
      "Epoch 22/100\n",
      "17/17 [==============================] - 2s 96ms/step - loss: 1.1292 - accuracy: 0.6444 - val_loss: 1.1099 - val_accuracy: 0.6667\n",
      "Epoch 23/100\n",
      "17/17 [==============================] - 2s 100ms/step - loss: 1.0975 - accuracy: 0.6611 - val_loss: 1.0800 - val_accuracy: 0.6667\n",
      "Epoch 24/100\n",
      "17/17 [==============================] - 2s 101ms/step - loss: 1.0681 - accuracy: 0.6704 - val_loss: 1.0556 - val_accuracy: 0.7000\n",
      "Epoch 25/100\n",
      "17/17 [==============================] - 2s 100ms/step - loss: 1.0394 - accuracy: 0.6824 - val_loss: 1.0320 - val_accuracy: 0.7000\n",
      "Epoch 26/100\n",
      "17/17 [==============================] - 2s 100ms/step - loss: 1.0116 - accuracy: 0.7009 - val_loss: 1.0083 - val_accuracy: 0.7000\n",
      "Epoch 27/100\n",
      "17/17 [==============================] - 2s 100ms/step - loss: 0.9860 - accuracy: 0.7093 - val_loss: 0.9887 - val_accuracy: 0.7167\n",
      "Epoch 28/100\n",
      "17/17 [==============================] - 2s 100ms/step - loss: 0.9616 - accuracy: 0.7213 - val_loss: 0.9670 - val_accuracy: 0.7167\n",
      "Epoch 29/100\n",
      "17/17 [==============================] - 2s 100ms/step - loss: 0.9370 - accuracy: 0.7324 - val_loss: 0.9462 - val_accuracy: 0.7167\n",
      "Epoch 30/100\n",
      "17/17 [==============================] - 2s 100ms/step - loss: 0.9137 - accuracy: 0.7398 - val_loss: 0.9256 - val_accuracy: 0.7333\n",
      "Epoch 31/100\n",
      "17/17 [==============================] - 2s 100ms/step - loss: 0.8917 - accuracy: 0.7454 - val_loss: 0.9065 - val_accuracy: 0.7333\n",
      "Epoch 32/100\n",
      "17/17 [==============================] - 2s 95ms/step - loss: 0.8707 - accuracy: 0.7481 - val_loss: 0.8877 - val_accuracy: 0.7333\n",
      "Epoch 33/100\n",
      "17/17 [==============================] - 2s 100ms/step - loss: 0.8509 - accuracy: 0.7593 - val_loss: 0.8701 - val_accuracy: 0.7333\n",
      "Epoch 34/100\n",
      "17/17 [==============================] - 2s 95ms/step - loss: 0.8325 - accuracy: 0.7630 - val_loss: 0.8523 - val_accuracy: 0.7583\n",
      "Epoch 35/100\n",
      "17/17 [==============================] - 2s 100ms/step - loss: 0.8143 - accuracy: 0.7694 - val_loss: 0.8363 - val_accuracy: 0.7583\n",
      "Epoch 36/100\n",
      "17/17 [==============================] - 2s 100ms/step - loss: 0.7973 - accuracy: 0.7750 - val_loss: 0.8211 - val_accuracy: 0.7583\n",
      "Epoch 37/100\n",
      "17/17 [==============================] - 2s 100ms/step - loss: 0.7809 - accuracy: 0.7833 - val_loss: 0.8064 - val_accuracy: 0.7750\n",
      "Epoch 38/100\n",
      "17/17 [==============================] - 2s 95ms/step - loss: 0.7651 - accuracy: 0.7870 - val_loss: 0.7925 - val_accuracy: 0.7667\n",
      "Epoch 39/100\n",
      "17/17 [==============================] - 2s 100ms/step - loss: 0.7501 - accuracy: 0.7907 - val_loss: 0.7788 - val_accuracy: 0.7667\n",
      "Epoch 40/100\n",
      "17/17 [==============================] - 2s 100ms/step - loss: 0.7359 - accuracy: 0.7917 - val_loss: 0.7659 - val_accuracy: 0.7667\n",
      "Epoch 41/100\n",
      "17/17 [==============================] - 2s 100ms/step - loss: 0.7224 - accuracy: 0.7917 - val_loss: 0.7536 - val_accuracy: 0.7667\n",
      "Epoch 42/100\n",
      "17/17 [==============================] - 2s 100ms/step - loss: 0.7097 - accuracy: 0.7972 - val_loss: 0.7409 - val_accuracy: 0.7667\n",
      "Epoch 43/100\n",
      "17/17 [==============================] - 2s 100ms/step - loss: 0.6978 - accuracy: 0.8000 - val_loss: 0.7303 - val_accuracy: 0.7667\n",
      "Epoch 44/100\n",
      "17/17 [==============================] - 2s 100ms/step - loss: 0.6861 - accuracy: 0.8037 - val_loss: 0.7190 - val_accuracy: 0.7667\n",
      "Epoch 45/100\n",
      "17/17 [==============================] - 2s 104ms/step - loss: 0.6754 - accuracy: 0.8065 - val_loss: 0.7092 - val_accuracy: 0.7667\n",
      "Epoch 46/100\n",
      "17/17 [==============================] - 2s 100ms/step - loss: 0.6649 - accuracy: 0.8130 - val_loss: 0.6994 - val_accuracy: 0.7667\n",
      "Epoch 47/100\n",
      "17/17 [==============================] - 2s 100ms/step - loss: 0.6549 - accuracy: 0.8167 - val_loss: 0.6900 - val_accuracy: 0.7667\n",
      "Epoch 48/100\n",
      "17/17 [==============================] - 2s 100ms/step - loss: 0.6453 - accuracy: 0.8194 - val_loss: 0.6811 - val_accuracy: 0.7667\n",
      "Epoch 49/100\n",
      "17/17 [==============================] - 2s 100ms/step - loss: 0.6363 - accuracy: 0.8194 - val_loss: 0.6717 - val_accuracy: 0.7667\n",
      "Epoch 50/100\n",
      "17/17 [==============================] - 2s 100ms/step - loss: 0.6273 - accuracy: 0.8222 - val_loss: 0.6639 - val_accuracy: 0.7667\n",
      "Epoch 51/100\n",
      "17/17 [==============================] - 2s 100ms/step - loss: 0.6187 - accuracy: 0.8231 - val_loss: 0.6553 - val_accuracy: 0.7667\n",
      "Epoch 52/100\n",
      "17/17 [==============================] - 2s 100ms/step - loss: 0.6106 - accuracy: 0.8231 - val_loss: 0.6477 - val_accuracy: 0.7583\n",
      "Epoch 53/100\n",
      "17/17 [==============================] - 2s 100ms/step - loss: 0.6028 - accuracy: 0.8231 - val_loss: 0.6402 - val_accuracy: 0.7833\n",
      "Epoch 54/100\n",
      "17/17 [==============================] - 2s 100ms/step - loss: 0.5952 - accuracy: 0.8222 - val_loss: 0.6334 - val_accuracy: 0.7833\n",
      "Epoch 55/100\n",
      "17/17 [==============================] - 2s 100ms/step - loss: 0.5882 - accuracy: 0.8241 - val_loss: 0.6260 - val_accuracy: 0.7917\n",
      "Epoch 56/100\n",
      "17/17 [==============================] - 2s 100ms/step - loss: 0.5808 - accuracy: 0.8259 - val_loss: 0.6191 - val_accuracy: 0.7917\n",
      "Epoch 57/100\n",
      "17/17 [==============================] - 2s 101ms/step - loss: 0.5742 - accuracy: 0.8278 - val_loss: 0.6130 - val_accuracy: 0.7833\n"
     ]
    },
    {
     "name": "stdout",
     "output_type": "stream",
     "text": [
      "Epoch 58/100\n",
      "17/17 [==============================] - 2s 101ms/step - loss: 0.5672 - accuracy: 0.8306 - val_loss: 0.6064 - val_accuracy: 0.7917\n",
      "Epoch 59/100\n",
      "17/17 [==============================] - 2s 106ms/step - loss: 0.5605 - accuracy: 0.8333 - val_loss: 0.6011 - val_accuracy: 0.7917\n",
      "Epoch 60/100\n",
      "17/17 [==============================] - 2s 101ms/step - loss: 0.5542 - accuracy: 0.8352 - val_loss: 0.5953 - val_accuracy: 0.7917\n",
      "Epoch 61/100\n",
      "17/17 [==============================] - 2s 100ms/step - loss: 0.5483 - accuracy: 0.8380 - val_loss: 0.5897 - val_accuracy: 0.7917\n",
      "Epoch 62/100\n",
      "17/17 [==============================] - 2s 106ms/step - loss: 0.5422 - accuracy: 0.8389 - val_loss: 0.5845 - val_accuracy: 0.7917\n",
      "Epoch 63/100\n",
      "17/17 [==============================] - 2s 106ms/step - loss: 0.5368 - accuracy: 0.8398 - val_loss: 0.5797 - val_accuracy: 0.7917\n",
      "Epoch 64/100\n",
      "17/17 [==============================] - 2s 100ms/step - loss: 0.5308 - accuracy: 0.8407 - val_loss: 0.5754 - val_accuracy: 0.7917\n",
      "Epoch 65/100\n",
      "17/17 [==============================] - 2s 100ms/step - loss: 0.5257 - accuracy: 0.8426 - val_loss: 0.5709 - val_accuracy: 0.7917\n",
      "Epoch 66/100\n",
      "17/17 [==============================] - 2s 100ms/step - loss: 0.5204 - accuracy: 0.8444 - val_loss: 0.5676 - val_accuracy: 0.7917\n",
      "Epoch 67/100\n",
      "17/17 [==============================] - 2s 100ms/step - loss: 0.5153 - accuracy: 0.8454 - val_loss: 0.5636 - val_accuracy: 0.7917\n",
      "Epoch 68/100\n",
      "17/17 [==============================] - 2s 100ms/step - loss: 0.5100 - accuracy: 0.8454 - val_loss: 0.5597 - val_accuracy: 0.7917\n",
      "Epoch 69/100\n",
      "17/17 [==============================] - 2s 100ms/step - loss: 0.5050 - accuracy: 0.8454 - val_loss: 0.5566 - val_accuracy: 0.7917\n",
      "Epoch 70/100\n",
      "17/17 [==============================] - 2s 100ms/step - loss: 0.5000 - accuracy: 0.8472 - val_loss: 0.5533 - val_accuracy: 0.8000\n",
      "Epoch 71/100\n",
      "17/17 [==============================] - 2s 100ms/step - loss: 0.4954 - accuracy: 0.8481 - val_loss: 0.5490 - val_accuracy: 0.8083\n",
      "Epoch 72/100\n",
      "17/17 [==============================] - 2s 101ms/step - loss: 0.4908 - accuracy: 0.8491 - val_loss: 0.5453 - val_accuracy: 0.8000\n",
      "Epoch 73/100\n",
      "17/17 [==============================] - 2s 100ms/step - loss: 0.4861 - accuracy: 0.8491 - val_loss: 0.5421 - val_accuracy: 0.8000\n",
      "Epoch 74/100\n",
      "17/17 [==============================] - 2s 100ms/step - loss: 0.4815 - accuracy: 0.8509 - val_loss: 0.5394 - val_accuracy: 0.8000\n",
      "Epoch 75/100\n",
      "17/17 [==============================] - 2s 100ms/step - loss: 0.4767 - accuracy: 0.8537 - val_loss: 0.5372 - val_accuracy: 0.8083\n",
      "Epoch 76/100\n",
      "17/17 [==============================] - 2s 100ms/step - loss: 0.4724 - accuracy: 0.8537 - val_loss: 0.5343 - val_accuracy: 0.8083\n",
      "Epoch 77/100\n",
      "17/17 [==============================] - 2s 100ms/step - loss: 0.4677 - accuracy: 0.8546 - val_loss: 0.5306 - val_accuracy: 0.8083\n",
      "Epoch 78/100\n",
      "17/17 [==============================] - 2s 100ms/step - loss: 0.4634 - accuracy: 0.8556 - val_loss: 0.5286 - val_accuracy: 0.8083\n",
      "Epoch 79/100\n",
      "17/17 [==============================] - 2s 106ms/step - loss: 0.4591 - accuracy: 0.8556 - val_loss: 0.5269 - val_accuracy: 0.8083\n",
      "Epoch 80/100\n",
      "17/17 [==============================] - 2s 106ms/step - loss: 0.4551 - accuracy: 0.8556 - val_loss: 0.5250 - val_accuracy: 0.8083\n",
      "Epoch 81/100\n",
      "17/17 [==============================] - 2s 101ms/step - loss: 0.4509 - accuracy: 0.8565 - val_loss: 0.5224 - val_accuracy: 0.8083\n",
      "Epoch 82/100\n",
      "17/17 [==============================] - 2s 100ms/step - loss: 0.4469 - accuracy: 0.8565 - val_loss: 0.5201 - val_accuracy: 0.8083\n",
      "Epoch 83/100\n",
      "17/17 [==============================] - 2s 100ms/step - loss: 0.4426 - accuracy: 0.8583 - val_loss: 0.5180 - val_accuracy: 0.8083\n",
      "Epoch 84/100\n",
      "17/17 [==============================] - 2s 100ms/step - loss: 0.4386 - accuracy: 0.8593 - val_loss: 0.5164 - val_accuracy: 0.8083\n",
      "Epoch 85/100\n",
      "17/17 [==============================] - 2s 101ms/step - loss: 0.4348 - accuracy: 0.8630 - val_loss: 0.5140 - val_accuracy: 0.8083\n",
      "Epoch 86/100\n",
      "17/17 [==============================] - 2s 100ms/step - loss: 0.4308 - accuracy: 0.8620 - val_loss: 0.5120 - val_accuracy: 0.8083\n",
      "Epoch 87/100\n",
      "17/17 [==============================] - 2s 106ms/step - loss: 0.4270 - accuracy: 0.8630 - val_loss: 0.5094 - val_accuracy: 0.8167\n",
      "Epoch 88/100\n",
      "17/17 [==============================] - 2s 100ms/step - loss: 0.4234 - accuracy: 0.8639 - val_loss: 0.5079 - val_accuracy: 0.8167\n",
      "Epoch 89/100\n",
      "17/17 [==============================] - 2s 100ms/step - loss: 0.4196 - accuracy: 0.8639 - val_loss: 0.5051 - val_accuracy: 0.8250\n",
      "Epoch 90/100\n",
      "17/17 [==============================] - 2s 100ms/step - loss: 0.4157 - accuracy: 0.8657 - val_loss: 0.5033 - val_accuracy: 0.8250\n",
      "Epoch 91/100\n",
      "17/17 [==============================] - 2s 100ms/step - loss: 0.4123 - accuracy: 0.8667 - val_loss: 0.5011 - val_accuracy: 0.8250\n",
      "Epoch 92/100\n",
      "17/17 [==============================] - 2s 100ms/step - loss: 0.4086 - accuracy: 0.8694 - val_loss: 0.4994 - val_accuracy: 0.8250\n",
      "Epoch 93/100\n",
      "17/17 [==============================] - 2s 100ms/step - loss: 0.4050 - accuracy: 0.8722 - val_loss: 0.4978 - val_accuracy: 0.8250\n",
      "Epoch 94/100\n",
      "17/17 [==============================] - 2s 101ms/step - loss: 0.4015 - accuracy: 0.8731 - val_loss: 0.4962 - val_accuracy: 0.8250\n",
      "Epoch 95/100\n",
      "17/17 [==============================] - 2s 100ms/step - loss: 0.3983 - accuracy: 0.8759 - val_loss: 0.4943 - val_accuracy: 0.8250\n",
      "Epoch 96/100\n",
      "17/17 [==============================] - 2s 100ms/step - loss: 0.3948 - accuracy: 0.8787 - val_loss: 0.4926 - val_accuracy: 0.8250\n",
      "Epoch 97/100\n",
      "17/17 [==============================] - 2s 100ms/step - loss: 0.3917 - accuracy: 0.8806 - val_loss: 0.4901 - val_accuracy: 0.8250\n",
      "Epoch 98/100\n",
      "17/17 [==============================] - 2s 100ms/step - loss: 0.3884 - accuracy: 0.8815 - val_loss: 0.4885 - val_accuracy: 0.8250\n",
      "Epoch 99/100\n",
      "17/17 [==============================] - 2s 100ms/step - loss: 0.3852 - accuracy: 0.8833 - val_loss: 0.4867 - val_accuracy: 0.8250\n",
      "Epoch 100/100\n",
      "17/17 [==============================] - 2s 100ms/step - loss: 0.3821 - accuracy: 0.8843 - val_loss: 0.4847 - val_accuracy: 0.8250\n"
     ]
    }
   ],
   "source": [
    "train_dataset = tf.data.Dataset.from_tensor_slices((X_train, Y_train)).batch(64)\n",
    "test_dataset = tf.data.Dataset.from_tensor_slices((X_test, Y_test)).batch(64)\n",
    "history = conv_model.fit(train_dataset, epochs=100, validation_data=test_dataset)"
   ]
  },
  {
   "cell_type": "markdown",
   "metadata": {},
   "source": [
    "<a name='5'></a>\n",
    "## 5 - History Object \n",
    "\n",
    "The history object is an output of the `.fit()` operation, and provides a record of all the loss and metric values in memory. It's stored as a dictionary that you can retrieve at `history.history`: "
   ]
  },
  {
   "cell_type": "code",
   "execution_count": 16,
   "metadata": {},
   "outputs": [
    {
     "data": {
      "text/plain": [
       "{'loss': [1.8067554235458374,\n",
       "  1.7867026329040527,\n",
       "  1.7781535387039185,\n",
       "  1.7699692249298096,\n",
       "  1.760797381401062,\n",
       "  1.7477390766143799,\n",
       "  1.7278722524642944,\n",
       "  1.703065276145935,\n",
       "  1.6708637475967407,\n",
       "  1.6363836526870728,\n",
       "  1.599189281463623,\n",
       "  1.5549620389938354,\n",
       "  1.507476568222046,\n",
       "  1.4566915035247803,\n",
       "  1.409207820892334,\n",
       "  1.3640328645706177,\n",
       "  1.318884015083313,\n",
       "  1.2753945589065552,\n",
       "  1.2361165285110474,\n",
       "  1.1994221210479736,\n",
       "  1.1622949838638306,\n",
       "  1.1292285919189453,\n",
       "  1.097529649734497,\n",
       "  1.0680510997772217,\n",
       "  1.0393894910812378,\n",
       "  1.0116338729858398,\n",
       "  0.9860245585441589,\n",
       "  0.9615733027458191,\n",
       "  0.9369789958000183,\n",
       "  0.9136564135551453,\n",
       "  0.8916621208190918,\n",
       "  0.8706919550895691,\n",
       "  0.8508676290512085,\n",
       "  0.8324610590934753,\n",
       "  0.8142962455749512,\n",
       "  0.7973104119300842,\n",
       "  0.7808634638786316,\n",
       "  0.7651351094245911,\n",
       "  0.7501346468925476,\n",
       "  0.7358520030975342,\n",
       "  0.7224250435829163,\n",
       "  0.709697961807251,\n",
       "  0.6977658271789551,\n",
       "  0.6860895156860352,\n",
       "  0.6754264831542969,\n",
       "  0.6648663282394409,\n",
       "  0.6548924446105957,\n",
       "  0.6452693939208984,\n",
       "  0.6363469362258911,\n",
       "  0.6272504329681396,\n",
       "  0.6187371611595154,\n",
       "  0.6106061935424805,\n",
       "  0.6028026342391968,\n",
       "  0.5952374339103699,\n",
       "  0.5881654620170593,\n",
       "  0.5807892084121704,\n",
       "  0.5742083191871643,\n",
       "  0.5671550631523132,\n",
       "  0.5605120062828064,\n",
       "  0.5542046427726746,\n",
       "  0.5483234524726868,\n",
       "  0.542175829410553,\n",
       "  0.5368289351463318,\n",
       "  0.5308275818824768,\n",
       "  0.5257400274276733,\n",
       "  0.5204063057899475,\n",
       "  0.5153417587280273,\n",
       "  0.5099908709526062,\n",
       "  0.5050099492073059,\n",
       "  0.5000202059745789,\n",
       "  0.49538472294807434,\n",
       "  0.4907638132572174,\n",
       "  0.4861384630203247,\n",
       "  0.4814772307872772,\n",
       "  0.4767000675201416,\n",
       "  0.472369909286499,\n",
       "  0.4677426517009735,\n",
       "  0.4633932113647461,\n",
       "  0.4591239094734192,\n",
       "  0.4550839960575104,\n",
       "  0.4508800506591797,\n",
       "  0.4468774199485779,\n",
       "  0.442583292722702,\n",
       "  0.4386498034000397,\n",
       "  0.4347667992115021,\n",
       "  0.4308301508426666,\n",
       "  0.4270261526107788,\n",
       "  0.42341315746307373,\n",
       "  0.41959914565086365,\n",
       "  0.4156935513019562,\n",
       "  0.4122511148452759,\n",
       "  0.408606618642807,\n",
       "  0.40501901507377625,\n",
       "  0.4014875888824463,\n",
       "  0.3982895314693451,\n",
       "  0.3947737514972687,\n",
       "  0.3916533589363098,\n",
       "  0.38841184973716736,\n",
       "  0.3851933777332306,\n",
       "  0.3820820450782776],\n",
       " 'accuracy': [0.15648147463798523,\n",
       "  0.22870370745658875,\n",
       "  0.26944443583488464,\n",
       "  0.29907408356666565,\n",
       "  0.31203705072402954,\n",
       "  0.3490740656852722,\n",
       "  0.3907407522201538,\n",
       "  0.432407408952713,\n",
       "  0.4472222328186035,\n",
       "  0.4574074149131775,\n",
       "  0.44907405972480774,\n",
       "  0.47592592239379883,\n",
       "  0.5055555701255798,\n",
       "  0.5268518328666687,\n",
       "  0.5444444417953491,\n",
       "  0.5592592358589172,\n",
       "  0.5712962746620178,\n",
       "  0.585185170173645,\n",
       "  0.5916666388511658,\n",
       "  0.6064814925193787,\n",
       "  0.6277777552604675,\n",
       "  0.644444465637207,\n",
       "  0.6611111164093018,\n",
       "  0.6703703999519348,\n",
       "  0.6824073791503906,\n",
       "  0.7009259462356567,\n",
       "  0.7092592716217041,\n",
       "  0.7212963104248047,\n",
       "  0.7324073910713196,\n",
       "  0.739814817905426,\n",
       "  0.7453703880310059,\n",
       "  0.7481481432914734,\n",
       "  0.7592592835426331,\n",
       "  0.7629629373550415,\n",
       "  0.769444465637207,\n",
       "  0.7749999761581421,\n",
       "  0.7833333611488342,\n",
       "  0.7870370149612427,\n",
       "  0.7907407283782959,\n",
       "  0.7916666865348816,\n",
       "  0.7916666865348816,\n",
       "  0.7972221970558167,\n",
       "  0.800000011920929,\n",
       "  0.8037037253379822,\n",
       "  0.8064814805984497,\n",
       "  0.8129629492759705,\n",
       "  0.8166666626930237,\n",
       "  0.8194444179534912,\n",
       "  0.8194444179534912,\n",
       "  0.8222222328186035,\n",
       "  0.8231481313705444,\n",
       "  0.8231481313705444,\n",
       "  0.8231481313705444,\n",
       "  0.8222222328186035,\n",
       "  0.8240740895271301,\n",
       "  0.8259259462356567,\n",
       "  0.8277778029441833,\n",
       "  0.8305555582046509,\n",
       "  0.8333333134651184,\n",
       "  0.835185170173645,\n",
       "  0.8379629850387573,\n",
       "  0.8388888835906982,\n",
       "  0.8398148417472839,\n",
       "  0.8407407402992249,\n",
       "  0.8425925970077515,\n",
       "  0.8444444537162781,\n",
       "  0.845370352268219,\n",
       "  0.845370352268219,\n",
       "  0.845370352268219,\n",
       "  0.8472222089767456,\n",
       "  0.8481481671333313,\n",
       "  0.8490740656852722,\n",
       "  0.8490740656852722,\n",
       "  0.8509259223937988,\n",
       "  0.8537036776542664,\n",
       "  0.8537036776542664,\n",
       "  0.854629635810852,\n",
       "  0.855555534362793,\n",
       "  0.855555534362793,\n",
       "  0.855555534362793,\n",
       "  0.8564814925193787,\n",
       "  0.8564814925193787,\n",
       "  0.8583333492279053,\n",
       "  0.8592592477798462,\n",
       "  0.8629629611968994,\n",
       "  0.8620370626449585,\n",
       "  0.8629629611968994,\n",
       "  0.8638888597488403,\n",
       "  0.8638888597488403,\n",
       "  0.8657407164573669,\n",
       "  0.8666666746139526,\n",
       "  0.8694444298744202,\n",
       "  0.8722222447395325,\n",
       "  0.8731481432914734,\n",
       "  0.8759258985519409,\n",
       "  0.8787037134170532,\n",
       "  0.8805555701255798,\n",
       "  0.8814814686775208,\n",
       "  0.8833333253860474,\n",
       "  0.8842592835426331],\n",
       " 'val_loss': [1.7946730852127075,\n",
       "  1.7811168432235718,\n",
       "  1.7702832221984863,\n",
       "  1.762157678604126,\n",
       "  1.7488802671432495,\n",
       "  1.735463261604309,\n",
       "  1.710303783416748,\n",
       "  1.6832622289657593,\n",
       "  1.6511425971984863,\n",
       "  1.6117337942123413,\n",
       "  1.568102478981018,\n",
       "  1.5216008424758911,\n",
       "  1.471233606338501,\n",
       "  1.4209495782852173,\n",
       "  1.3727225065231323,\n",
       "  1.3283778429031372,\n",
       "  1.2829558849334717,\n",
       "  1.2409754991531372,\n",
       "  1.2031593322753906,\n",
       "  1.1708028316497803,\n",
       "  1.1352790594100952,\n",
       "  1.1098535060882568,\n",
       "  1.0799697637557983,\n",
       "  1.0556169748306274,\n",
       "  1.0320135354995728,\n",
       "  1.0082969665527344,\n",
       "  0.9887059330940247,\n",
       "  0.9669904708862305,\n",
       "  0.9461678862571716,\n",
       "  0.9256024956703186,\n",
       "  0.906530499458313,\n",
       "  0.8877308964729309,\n",
       "  0.8701099753379822,\n",
       "  0.8523186445236206,\n",
       "  0.8363212943077087,\n",
       "  0.8211427927017212,\n",
       "  0.8063814043998718,\n",
       "  0.7924538850784302,\n",
       "  0.7788292765617371,\n",
       "  0.7659014463424683,\n",
       "  0.7536393404006958,\n",
       "  0.7409089803695679,\n",
       "  0.7303167581558228,\n",
       "  0.7189605832099915,\n",
       "  0.7091532349586487,\n",
       "  0.6994380950927734,\n",
       "  0.6900341510772705,\n",
       "  0.6811261773109436,\n",
       "  0.6717388033866882,\n",
       "  0.6638921499252319,\n",
       "  0.6553141474723816,\n",
       "  0.6477352380752563,\n",
       "  0.6401708126068115,\n",
       "  0.633387565612793,\n",
       "  0.6259784698486328,\n",
       "  0.6190580725669861,\n",
       "  0.6129970550537109,\n",
       "  0.6064261198043823,\n",
       "  0.6011331677436829,\n",
       "  0.595258891582489,\n",
       "  0.5896843075752258,\n",
       "  0.5845479965209961,\n",
       "  0.5796652436256409,\n",
       "  0.5753925442695618,\n",
       "  0.5709450840950012,\n",
       "  0.5675628781318665,\n",
       "  0.5635531544685364,\n",
       "  0.5597416162490845,\n",
       "  0.5565956234931946,\n",
       "  0.5533192157745361,\n",
       "  0.5489871501922607,\n",
       "  0.5453037619590759,\n",
       "  0.5421262383460999,\n",
       "  0.5393611788749695,\n",
       "  0.5372033715248108,\n",
       "  0.534323513507843,\n",
       "  0.5306068062782288,\n",
       "  0.5286386013031006,\n",
       "  0.5269331336021423,\n",
       "  0.5249682664871216,\n",
       "  0.5224052667617798,\n",
       "  0.5201374292373657,\n",
       "  0.5179780125617981,\n",
       "  0.5164174437522888,\n",
       "  0.5140221118927002,\n",
       "  0.5120195746421814,\n",
       "  0.509375274181366,\n",
       "  0.5078769326210022,\n",
       "  0.5051237344741821,\n",
       "  0.5033239126205444,\n",
       "  0.5010746121406555,\n",
       "  0.49938246607780457,\n",
       "  0.4977886974811554,\n",
       "  0.49624285101890564,\n",
       "  0.4943360686302185,\n",
       "  0.4926123321056366,\n",
       "  0.4900716245174408,\n",
       "  0.4884795546531677,\n",
       "  0.48670199513435364,\n",
       "  0.4847263991832733],\n",
       " 'val_accuracy': [0.13333334028720856,\n",
       "  0.2083333283662796,\n",
       "  0.3166666626930237,\n",
       "  0.32499998807907104,\n",
       "  0.375,\n",
       "  0.4000000059604645,\n",
       "  0.4333333373069763,\n",
       "  0.42500001192092896,\n",
       "  0.4416666626930237,\n",
       "  0.5083333253860474,\n",
       "  0.5,\n",
       "  0.5333333611488342,\n",
       "  0.5416666865348816,\n",
       "  0.550000011920929,\n",
       "  0.5583333373069763,\n",
       "  0.5666666626930237,\n",
       "  0.574999988079071,\n",
       "  0.5833333134651184,\n",
       "  0.5916666388511658,\n",
       "  0.6166666746139526,\n",
       "  0.6416666507720947,\n",
       "  0.6666666865348816,\n",
       "  0.6666666865348816,\n",
       "  0.699999988079071,\n",
       "  0.699999988079071,\n",
       "  0.699999988079071,\n",
       "  0.7166666388511658,\n",
       "  0.7166666388511658,\n",
       "  0.7166666388511658,\n",
       "  0.7333333492279053,\n",
       "  0.7333333492279053,\n",
       "  0.7333333492279053,\n",
       "  0.7333333492279053,\n",
       "  0.7583333253860474,\n",
       "  0.7583333253860474,\n",
       "  0.7583333253860474,\n",
       "  0.7749999761581421,\n",
       "  0.7666666507720947,\n",
       "  0.7666666507720947,\n",
       "  0.7666666507720947,\n",
       "  0.7666666507720947,\n",
       "  0.7666666507720947,\n",
       "  0.7666666507720947,\n",
       "  0.7666666507720947,\n",
       "  0.7666666507720947,\n",
       "  0.7666666507720947,\n",
       "  0.7666666507720947,\n",
       "  0.7666666507720947,\n",
       "  0.7666666507720947,\n",
       "  0.7666666507720947,\n",
       "  0.7666666507720947,\n",
       "  0.7583333253860474,\n",
       "  0.7833333611488342,\n",
       "  0.7833333611488342,\n",
       "  0.7916666865348816,\n",
       "  0.7916666865348816,\n",
       "  0.7833333611488342,\n",
       "  0.7916666865348816,\n",
       "  0.7916666865348816,\n",
       "  0.7916666865348816,\n",
       "  0.7916666865348816,\n",
       "  0.7916666865348816,\n",
       "  0.7916666865348816,\n",
       "  0.7916666865348816,\n",
       "  0.7916666865348816,\n",
       "  0.7916666865348816,\n",
       "  0.7916666865348816,\n",
       "  0.7916666865348816,\n",
       "  0.7916666865348816,\n",
       "  0.800000011920929,\n",
       "  0.8083333373069763,\n",
       "  0.800000011920929,\n",
       "  0.800000011920929,\n",
       "  0.800000011920929,\n",
       "  0.8083333373069763,\n",
       "  0.8083333373069763,\n",
       "  0.8083333373069763,\n",
       "  0.8083333373069763,\n",
       "  0.8083333373069763,\n",
       "  0.8083333373069763,\n",
       "  0.8083333373069763,\n",
       "  0.8083333373069763,\n",
       "  0.8083333373069763,\n",
       "  0.8083333373069763,\n",
       "  0.8083333373069763,\n",
       "  0.8083333373069763,\n",
       "  0.8166666626930237,\n",
       "  0.8166666626930237,\n",
       "  0.824999988079071,\n",
       "  0.824999988079071,\n",
       "  0.824999988079071,\n",
       "  0.824999988079071,\n",
       "  0.824999988079071,\n",
       "  0.824999988079071,\n",
       "  0.824999988079071,\n",
       "  0.824999988079071,\n",
       "  0.824999988079071,\n",
       "  0.824999988079071,\n",
       "  0.824999988079071,\n",
       "  0.824999988079071]}"
      ]
     },
     "execution_count": 16,
     "metadata": {},
     "output_type": "execute_result"
    }
   ],
   "source": [
    "history.history"
   ]
  },
  {
   "cell_type": "markdown",
   "metadata": {},
   "source": [
    "Now visualize the loss over time using `history.history`: "
   ]
  },
  {
   "cell_type": "code",
   "execution_count": 17,
   "metadata": {},
   "outputs": [
    {
     "data": {
      "text/plain": [
       "[Text(0, 0.5, 'Accuracy'), Text(0.5, 0, 'Epoch')]"
      ]
     },
     "execution_count": 17,
     "metadata": {},
     "output_type": "execute_result"
    },
    {
     "data": {
      "image/png": "[encoded data removed]",
      "text/plain": [
       "<Figure size 864x576 with 1 Axes>"
      ]
     },
     "metadata": {
      "needs_background": "light"
     },
     "output_type": "display_data"
    },
    {
     "data": {
      "image/png": "[encoded data removed]",
      "text/plain": [
       "<Figure size 864x576 with 1 Axes>"
      ]
     },
     "metadata": {
      "needs_background": "light"
     },
     "output_type": "display_data"
    }
   ],
   "source": [
    "# The history.history[\"loss\"] entry is a dictionary with as many values as epochs that the\n",
    "# model was trained on. \n",
    "df_loss_acc = pd.DataFrame(history.history)\n",
    "df_loss= df_loss_acc[['loss','val_loss']]\n",
    "df_loss.rename(columns={'loss':'train','val_loss':'validation'},inplace=True)\n",
    "df_acc= df_loss_acc[['accuracy','val_accuracy']]\n",
    "df_acc.rename(columns={'accuracy':'train','val_accuracy':'validation'},inplace=True)\n",
    "df_loss.plot(title='Model loss',figsize=(12,8)).set(xlabel='Epoch',ylabel='Loss')\n",
    "df_acc.plot(title='Model Accuracy',figsize=(12,8)).set(xlabel='Epoch',ylabel='Accuracy')"
   ]
  },
  {
   "cell_type": "markdown",
   "metadata": {},
   "source": [
    "**Congratulations**! You've finished the assignment and built two models: One that recognizes  smiles, and another that recognizes SIGN language with almost 80% accuracy on the test set. In addition to that, you now also understand the applications of two Keras APIs: Sequential and Functional. Nicely done! \n",
    "\n",
    "By now, you know a bit about how the Functional API works and may have glimpsed the possibilities. In your next assignment, you'll really get a feel for its power when you get the opportunity to build a very deep ConvNet, using ResNets! "
   ]
  },
  {
   "cell_type": "markdown",
   "metadata": {},
   "source": [
    "<a name='6'></a>\n",
    "## 6 - Bibliography\n",
    "\n",
    "You're always encouraged to read the official documentation. To that end, you can find the docs for the Sequential and Functional APIs here: \n",
    "\n",
    "https://www.tensorflow.org/guide/keras/sequential_model\n",
    "\n",
    "https://www.tensorflow.org/guide/keras/functional"
   ]
  }
 ],
 "metadata": {
  "coursera": {
   "course_slug": "convolutional-neural-networks",
   "graded_item_id": "bwbJV",
   "launcher_item_id": "0TkXB"
  },
  "kernelspec": {
   "display_name": "Python 3",
   "language": "python",
   "name": "python3"
  },
  "language_info": {
   "codemirror_mode": {
    "name": "ipython",
    "version": 3
   },
   "file_extension": ".py",
   "mimetype": "text/x-python",
   "name": "python",
   "nbconvert_exporter": "python",
   "pygments_lexer": "ipython3",
   "version": "3.7.6"
  }
 },
 "nbformat": 4,
 "nbformat_minor": 2
}
